{
 "cells": [
  {
   "cell_type": "markdown",
   "metadata": {},
   "source": [
    "# Ex 1: Quality of Government Dataset\n",
    "Read in the government dataset directly from \"http://www.qogdata.pol.gu.se/data/qog_std_cs_jan19.csv\""
   ]
  },
  {
   "cell_type": "code",
   "execution_count": 8,
   "metadata": {},
   "outputs": [
    {
     "name": "stdout",
     "output_type": "stream",
     "text": [
      "     ccode        cname ccodealp  ccodecow  ccodewb        version  aid_cpnc  \\\n",
      "0        4  Afghanistan      AFG     700.0      4.0  QoGStdCSJan19       NaN   \n",
      "1        8      Albania      ALB     339.0      8.0  QoGStdCSJan19       NaN   \n",
      "2       12      Algeria      DZA     615.0     12.0  QoGStdCSJan19       NaN   \n",
      "3       20      Andorra      AND     232.0     20.0  QoGStdCSJan19       NaN   \n",
      "4       24       Angola      AGO     540.0     24.0  QoGStdCSJan19       NaN   \n",
      "..     ...          ...      ...       ...      ...            ...       ...   \n",
      "189    860   Uzbekistan      UZB     704.0    860.0  QoGStdCSJan19       NaN   \n",
      "190    862    Venezuela      VEN     101.0    862.0  QoGStdCSJan19       NaN   \n",
      "191    882        Samoa      WSM     990.0    882.0  QoGStdCSJan19       NaN   \n",
      "192    887        Yemen      YEM     679.0    887.0  QoGStdCSJan19       NaN   \n",
      "193    894       Zambia      ZMB     551.0    894.0  QoGStdCSJan19       NaN   \n",
      "\n",
      "     aid_cpsc  aid_crnc  aid_crnio  ...  wwbi_rrespubpemp  wwbi_sprpempn  \\\n",
      "0         NaN      29.0       13.0  ...               NaN            NaN   \n",
      "1         NaN      26.0       13.0  ...           0.19397            NaN   \n",
      "2         NaN      21.0        6.0  ...               NaN            NaN   \n",
      "3         NaN       NaN        NaN  ...               NaN            NaN   \n",
      "4         NaN      22.0       13.0  ...               NaN            NaN   \n",
      "..        ...       ...        ...  ...               ...            ...   \n",
      "189       NaN      21.0       16.0  ...               NaN            NaN   \n",
      "190       NaN      20.0        6.0  ...               NaN            NaN   \n",
      "191       NaN      10.0        7.0  ...               NaN            NaN   \n",
      "192       NaN      26.0       16.0  ...               NaN            NaN   \n",
      "193       NaN      22.0       18.0  ...               NaN            NaN   \n",
      "\n",
      "     wwbi_sprpempp  wwbi_sprpemps  wwbi_sprpempt  wwbi_spupempn  \\\n",
      "0              NaN            NaN            NaN            NaN   \n",
      "1              NaN            NaN            NaN            NaN   \n",
      "2              NaN            NaN            NaN            NaN   \n",
      "3              NaN            NaN            NaN            NaN   \n",
      "4              NaN            NaN            NaN            NaN   \n",
      "..             ...            ...            ...            ...   \n",
      "189            NaN            NaN            NaN            NaN   \n",
      "190            NaN            NaN            NaN            NaN   \n",
      "191            NaN            NaN            NaN            NaN   \n",
      "192            NaN            NaN            NaN            NaN   \n",
      "193            NaN            NaN            NaN            NaN   \n",
      "\n",
      "     wwbi_spupempp  wwbi_spupemps  wwbi_spupempt  wwbi_tertiarypubsec  \n",
      "0              NaN            NaN            NaN                  NaN  \n",
      "1              NaN            NaN            NaN             0.546449  \n",
      "2              NaN            NaN            NaN                  NaN  \n",
      "3              NaN            NaN            NaN                  NaN  \n",
      "4              NaN            NaN            NaN                  NaN  \n",
      "..             ...            ...            ...                  ...  \n",
      "189            NaN            NaN            NaN                  NaN  \n",
      "190            NaN            NaN            NaN                  NaN  \n",
      "191            NaN            NaN            NaN                  NaN  \n",
      "192            NaN            NaN            NaN                  NaN  \n",
      "193            NaN            NaN            NaN                  NaN  \n",
      "\n",
      "[194 rows x 1983 columns]\n"
     ]
    }
   ],
   "source": [
    "import pandas as pd\n",
    "\n",
    "url = \"http://www.qogdata.pol.gu.se/data/qog_std_cs_jan19.csv\"\n",
    "df=pd.read_csv(url)\n",
    "\n",
    "print(df)"
   ]
  },
  {
   "cell_type": "markdown",
   "metadata": {},
   "source": [
    "## How many rows does this dataset have?"
   ]
  },
  {
   "cell_type": "code",
   "execution_count": 10,
   "metadata": {},
   "outputs": [
    {
     "name": "stdout",
     "output_type": "stream",
     "text": [
      "194\n"
     ]
    }
   ],
   "source": [
    "n_rows = len(df)\n",
    "print(n_rows)"
   ]
  },
  {
   "cell_type": "markdown",
   "metadata": {},
   "source": [
    "## How many columns does this dataset have?"
   ]
  },
  {
   "cell_type": "code",
   "execution_count": null,
   "metadata": {},
   "outputs": [],
   "source": []
  },
  {
   "cell_type": "markdown",
   "metadata": {},
   "source": [
    "## Select the following columns from the dataset: \n",
    "\n",
    "\"cname\", \"wdi_pop\", \"wdi_popgr\", \"wdi_gdpcapcur\", \"wdi_gdpcapgr\", \"wdi_area\", \"wdi_broadb\", \"ht_region\""
   ]
  },
  {
   "cell_type": "code",
   "execution_count": null,
   "metadata": {
    "scrolled": true
   },
   "outputs": [],
   "source": []
  },
  {
   "cell_type": "markdown",
   "metadata": {},
   "source": [
    "## Rename the columns to: \"country\", \"population\",\"population_growth\", \"gdp_per_capita\", \"gdp_growth\", \"area\", \"internet\", \"region\""
   ]
  },
  {
   "cell_type": "code",
   "execution_count": null,
   "metadata": {},
   "outputs": [],
   "source": []
  },
  {
   "cell_type": "markdown",
   "metadata": {},
   "source": [
    "## Rename the region codes 1-10 with \n",
    "\"Eastern Europe\", \"Latin America\", \"North Africa & Middle East\", \"Sub-Saharan Africa\", \"Western Europe and North America\", \"East Asia\",\"South-East Asia\", \"South Asia\", \"Pacific\", \"Caribbean\""
   ]
  },
  {
   "cell_type": "code",
   "execution_count": null,
   "metadata": {
    "scrolled": true
   },
   "outputs": [],
   "source": []
  },
  {
   "cell_type": "markdown",
   "metadata": {},
   "source": [
    "## Select the five countries with the highest population"
   ]
  },
  {
   "cell_type": "code",
   "execution_count": null,
   "metadata": {},
   "outputs": [],
   "source": []
  },
  {
   "cell_type": "markdown",
   "metadata": {},
   "source": [
    "## What are the mean values for each attribute?"
   ]
  },
  {
   "cell_type": "code",
   "execution_count": null,
   "metadata": {},
   "outputs": [],
   "source": []
  },
  {
   "cell_type": "markdown",
   "metadata": {},
   "source": [
    "## What are the correlation coefficients between these attributes?"
   ]
  },
  {
   "cell_type": "code",
   "execution_count": null,
   "metadata": {},
   "outputs": [],
   "source": []
  },
  {
   "cell_type": "markdown",
   "metadata": {
    "collapsed": true
   },
   "source": [
    "## Which country has the highest population in the region \"Eastern Europe\"?"
   ]
  },
  {
   "cell_type": "code",
   "execution_count": null,
   "metadata": {},
   "outputs": [],
   "source": []
  },
  {
   "cell_type": "markdown",
   "metadata": {},
   "source": [
    "## Solutions"
   ]
  },
  {
   "cell_type": "code",
   "execution_count": null,
   "metadata": {
    "scrolled": false
   },
   "outputs": [],
   "source": [
    "# %load \"23_data_exploration_exercise_1.py\""
   ]
  },
  {
   "cell_type": "markdown",
   "metadata": {},
   "source": [
    "#  Ex 2: Book and Movie shop"
   ]
  },
  {
   "cell_type": "markdown",
   "metadata": {},
   "source": [
    "For a virtual shop that sells movies and books, we have four tables:\n",
    "    * pd_customers: Gives first- and lastname for each customer\n",
    "    * pd_books: Gives the raw price for all books that are being sold\n",
    "    * pd_movies: Gives the raw price for all movies that are being sold\n",
    "    * pd_transactions: Gives the list of all transactions being made (which customer bought which item)\n",
    "    "
   ]
  },
  {
   "cell_type": "markdown",
   "metadata": {},
   "source": [
    "## Load all 4 datasets in separate dataframes"
   ]
  },
  {
   "cell_type": "code",
   "execution_count": null,
   "metadata": {},
   "outputs": [],
   "source": []
  },
  {
   "cell_type": "markdown",
   "metadata": {},
   "source": [
    "## Compile a listing of all items (=books and movies) that have been sold in one dataframe\n",
    "The dataframe should contain two columns: \"item_name\" and \"price\""
   ]
  },
  {
   "cell_type": "code",
   "execution_count": null,
   "metadata": {},
   "outputs": [],
   "source": []
  },
  {
   "cell_type": "markdown",
   "metadata": {},
   "source": [
    "## Join the information on customer names, transactions, and prices in one dataframe"
   ]
  },
  {
   "cell_type": "code",
   "execution_count": null,
   "metadata": {},
   "outputs": [],
   "source": []
  },
  {
   "cell_type": "markdown",
   "metadata": {},
   "source": [
    "## Compute a table of customers. For all customers give the number of items bought, the sum of these items, and the average price of the item."
   ]
  },
  {
   "cell_type": "code",
   "execution_count": null,
   "metadata": {},
   "outputs": [],
   "source": []
  },
  {
   "cell_type": "markdown",
   "metadata": {},
   "source": [
    "## Extend that list such that it also contains customers without purchases"
   ]
  },
  {
   "cell_type": "code",
   "execution_count": null,
   "metadata": {},
   "outputs": [],
   "source": []
  },
  {
   "cell_type": "markdown",
   "metadata": {},
   "source": [
    "## Round the price mean and the price sum to two digits and export the table to a .csv file"
   ]
  },
  {
   "cell_type": "code",
   "execution_count": null,
   "metadata": {},
   "outputs": [],
   "source": []
  },
  {
   "cell_type": "markdown",
   "metadata": {},
   "source": [
    "## Compute lists of the top 10 bestselling items, both by count and by sum of prices"
   ]
  },
  {
   "cell_type": "code",
   "execution_count": null,
   "metadata": {},
   "outputs": [],
   "source": []
  }
 ],
 "metadata": {
  "hide_input": false,
  "kernelspec": {
   "display_name": "Python 3",
   "language": "python",
   "name": "python3"
  },
  "language_info": {
   "codemirror_mode": {
    "name": "ipython",
    "version": 3
   },
   "file_extension": ".py",
   "mimetype": "text/x-python",
   "name": "python",
   "nbconvert_exporter": "python",
   "pygments_lexer": "ipython3",
   "version": "3.7.4"
  },
  "nav_menu": {},
  "toc": {
   "base_numbering": 1,
   "nav_menu": {},
   "number_sections": true,
   "sideBar": true,
   "skip_h1_title": false,
   "title_cell": "Table of Contents",
   "title_sidebar": "Contents",
   "toc_cell": false,
   "toc_position": {},
   "toc_section_display": false,
   "toc_window_display": false
  },
  "varInspector": {
   "cols": {
    "lenName": 16,
    "lenType": 16,
    "lenVar": 40
   },
   "kernels_config": {
    "python": {
     "delete_cmd_postfix": "",
     "delete_cmd_prefix": "del ",
     "library": "var_list.py",
     "varRefreshCmd": "print(var_dic_list())"
    },
    "r": {
     "delete_cmd_postfix": ") ",
     "delete_cmd_prefix": "rm(",
     "library": "var_list.r",
     "varRefreshCmd": "cat(var_dic_list()) "
    }
   },
   "types_to_exclude": [
    "module",
    "function",
    "builtin_function_or_method",
    "instance",
    "_Feature"
   ],
   "window_display": false
  }
 },
 "nbformat": 4,
 "nbformat_minor": 2
}
